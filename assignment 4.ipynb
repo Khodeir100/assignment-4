{
 "cells": [
  {
   "cell_type": "code",
   "execution_count": 1,
   "id": "89e38b2d-8de1-4c10-8936-2f048646ebf1",
   "metadata": {},
   "outputs": [
    {
     "name": "stdout",
     "output_type": "stream",
     "text": [
      "2\n",
      "2\n",
      "0\n",
      "the number can not be zero\n"
     ]
    }
   ],
   "source": [
    "# Write a Python program to create a calculator class. Include methods for basic arithmetic operations.\n",
    "class calc():\n",
    "    def __init__(self,a,b):\n",
    "        self.a=a\n",
    "        self.b=b\n",
    "    def add(self):\n",
    "        print(self.a+self.b)\n",
    "    def sub(self):\n",
    "        print(abs(self.a-self.b))\n",
    "    def multi(self):\n",
    "        print(self.a*self.b)\n",
    "    def divid(self):\n",
    "        if self.b != 0 :\n",
    "            print(self.a/self.b)\n",
    "        else:\n",
    "            print(\"the number can not be zero\")\n",
    "x=calc(2,0)\n",
    "x.add()\n",
    "x.sub()\n",
    "x.multi()\n",
    "x.divid()"
   ]
  },
  {
   "cell_type": "markdown",
   "id": "9a24e3f2-4366-4d3d-89a9-3fba8fb93b72",
   "metadata": {},
   "source": [
    "Task 2: Rectangle class:\r\n",
    "1. Write a Rectangle class in Python language, allowing you to build a rectangle with length and width\r\n",
    "attributes.\r\n",
    "2. Create a Perimeter() method to calculate the perimeter of the rectangle and a Area() method to\r\n",
    "calculate the area of the rectangle.\r\n",
    "3. Create a method display() that display the length, width, perimeter and area of an object created\r\n",
    "using an instantiation on rectangle class.\r\n",
    "4. Create a Parallelepipede child class inheriting from the Rectangle class and with a height attribute\r\n",
    "and another Volume() method to calculate the volume of the Parallelepiped."
   ]
  },
  {
   "cell_type": "code",
   "execution_count": 9,
   "id": "43e6cb2a-9285-4046-bbcb-29e86e9abbe5",
   "metadata": {},
   "outputs": [
    {
     "name": "stdout",
     "output_type": "stream",
     "text": [
      "length and width=  2  ,  4\n",
      "perimeter=  12\n",
      "area=  8\n"
     ]
    }
   ],
   "source": [
    "class rec():\n",
    "    def __init__(self,L,W):\n",
    "        self.L=L\n",
    "        self.W=W\n",
    "    def perimeter(self):\n",
    "        self.perimeter=2*(self.L+self.W)\n",
    "        return self.perimeter\n",
    "    def area(self):\n",
    "        self.area=self.L*self.W\n",
    "        return self.area\n",
    "    def display(self):\n",
    "        print (\"length and width= \", self.L,\" , \", self.W)\n",
    "        print (\"perimeter= \",self.perimeter())\n",
    "        print(\"area= \",self.area())\n",
    "\n",
    "x=rec(2,4)\n",
    "x.display()"
   ]
  },
  {
   "cell_type": "code",
   "execution_count": 28,
   "id": "d11b03b2-a1c5-4be6-ab21-f0e6779400c8",
   "metadata": {},
   "outputs": [
    {
     "data": {
      "text/plain": [
       "24"
      ]
     },
     "execution_count": 28,
     "metadata": {},
     "output_type": "execute_result"
    }
   ],
   "source": [
    "class Para(rec):\n",
    "    def __init__ (self,L,W,H):\n",
    "        super().__init__(L,W)\n",
    "        self.H=H\n",
    "    def volume(self):\n",
    "        self.volume=self.area()*self.H\n",
    "        return self.volume\n",
    "y=Para(2,4,3)\n",
    "y.volume()"
   ]
  },
  {
   "cell_type": "markdown",
   "id": "428c99e7-20fe-4878-84eb-c439642ccabb",
   "metadata": {},
   "source": [
    "Task 3: Person class and child Student class\r\n",
    "Create a Python class Person with attributes: name and age of type string.\r\n",
    "1. Create a display() method that displays the name and age of an object created via the Person class.\r\n",
    "2. Create a child class Student which inherits from the Person class and which also has a section\r\n",
    "attribute.\r\n",
    "3. Create a method displayStudent() that displays the name, age and section of an object created via the\r\n",
    "Student class.\r\n",
    "4. Create a student object via an instantiation on the Student class and then test the displayStudent\r\n",
    "method."
   ]
  },
  {
   "cell_type": "code",
   "execution_count": 31,
   "id": "2c059281-486b-48f6-9d41-404eff9be82b",
   "metadata": {},
   "outputs": [
    {
     "name": "stdout",
     "output_type": "stream",
     "text": [
      "person name is Mohamed, person age is 24\n",
      "student name is Ibrahim, student age is 14, student section is 3\n"
     ]
    }
   ],
   "source": [
    "class person():\n",
    "    def __init__ (self,name,age):\n",
    "        self.name=str(name)\n",
    "        self.age=str(age)\n",
    "    def display(self):\n",
    "        print(f\"person name is {self.name}, person age is {self.age}\")\n",
    "\n",
    "class student(person):\n",
    "    def __init__(self,name,age,section):\n",
    "        super().__init__(name,age)\n",
    "        self.section=section\n",
    "    def displaystudent(self):\n",
    "        print(f\"student name is {self.name}, student age is {self.age}, student section is {self.section}\")\n",
    "\n",
    "P1 = person (\"Mohamed\",24)\n",
    "P1.display()\n",
    "S1 = student (\"Ibrahim\", 14, 3)\n",
    "S1.displaystudent()        "
   ]
  }
 ],
 "metadata": {
  "kernelspec": {
   "display_name": "Python 3 (ipykernel)",
   "language": "python",
   "name": "python3"
  },
  "language_info": {
   "codemirror_mode": {
    "name": "ipython",
    "version": 3
   },
   "file_extension": ".py",
   "mimetype": "text/x-python",
   "name": "python",
   "nbconvert_exporter": "python",
   "pygments_lexer": "ipython3",
   "version": "3.11.7"
  }
 },
 "nbformat": 4,
 "nbformat_minor": 5
}
